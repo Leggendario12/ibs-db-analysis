{
 "cells": [
  {
   "cell_type": "markdown",
   "source": [],
   "metadata": {
    "collapsed": false
   }
  },
  {
   "cell_type": "code",
   "execution_count": 17,
   "outputs": [],
   "source": [
    "import pandas as pd\n",
    "from mysql import connector\n",
    "import os\n",
    "from dotenv import find_dotenv, load_dotenv\n",
    "env_file: str = find_dotenv()\n",
    "if env_file:\n",
    "    load_dotenv(env_file)\n",
    "\n",
    "\n",
    "connection = connector.connect(\n",
    "    host=os.environ.get(\"CARDS_DB_HOST\"),\n",
    "    port=os.environ.get(\"CARDS_DB_PORT\"),\n",
    "    user=os.environ.get(\"CARDS_DB_USER\"),\n",
    "    password=os.environ.get(\"CARDS_DB_PASSWD\"),\n",
    "    db=os.environ.get(\"CARDS_DB_NAME\"),\n",
    ")"
   ],
   "metadata": {
    "collapsed": false
   }
  },
  {
   "cell_type": "markdown",
   "source": [],
   "metadata": {
    "collapsed": false
   }
  },
  {
   "cell_type": "code",
   "execution_count": 18,
   "outputs": [
    {
     "name": "stderr",
     "output_type": "stream",
     "text": [
      "/var/folders/w_/g5mjpmbd7z75msn0_yv99qy40000gn/T/ipykernel_23248/124130276.py:1: UserWarning: pandas only supports SQLAlchemy connectable (engine/connection) or database string URI or sqlite3 DBAPI2 connection. Other DBAPI2 objects are not tested. Please consider using SQLAlchemy.\n",
      "  df = pd.read_sql_query(\"select * from Product_Pricing\", con=connection)\n"
     ]
    }
   ],
   "source": [
    "\n",
    "df = pd.read_sql_query(\"select * from Product_Pricing\", con=connection)"
   ],
   "metadata": {
    "collapsed": false
   }
  },
  {
   "cell_type": "code",
   "execution_count": 19,
   "outputs": [
    {
     "data": {
      "text/plain": "             id  price_point  product_id  web_product_details_id  versions  \\\n0       8154626        20160        1348                    1348         1   \n1       8154625   1666052116        2506                    2506         1   \n2       8154624   1666052116        2506                    2506         1   \n3       8154577   1666052116        2509                    2509         1   \n4       8154578   1666052116        2509                    2509         1   \n...         ...          ...         ...                     ...       ...   \n680274  7940274        20160          47                      47         1   \n680275  7940272        20160          47                      47         1   \n680276  7940269        20160          47                      47         1   \n680277  7940270        20160          47                      47         1   \n680278  7940271        20160          47                      47         1   \n\n        quanity  price  colour_id  product_id_size  size_id  ... status  \\\n0             1   10.0        4.0              214      214  ...    yes   \n1             1   64.0        4.0             7081     7081  ...    yes   \n2         25000    1.0      698.0             7427     7427  ...    yes   \n3            10  203.0      698.0             7091     7091  ...    yes   \n4            25  381.0      698.0             7091     7091  ...    yes   \n...         ...    ...        ...              ...      ...  ...    ...   \n680274      400  104.0        4.0              136      136  ...    yes   \n680275      200   88.0        4.0              136      136  ...    yes   \n680276       50   82.0        4.0              136      136  ...    yes   \n680277      100   84.0        4.0              136      136  ...    yes   \n680278      150   86.0        4.0              136      136  ...    yes   \n\n                date_added        updated_date on_website  on_pricelist  \\\n0      2023-01-09 20:54:27 2023-01-09 20:54:27        0.0           0.0   \n1      2022-12-22 05:23:20 2022-12-22 05:23:20        0.0           0.0   \n2      2022-12-22 02:40:22 2022-12-22 02:40:22        0.0           0.0   \n3      2022-12-22 01:47:57 2022-12-22 01:47:57        0.0           0.0   \n4      2022-12-22 01:47:57 2022-12-22 01:47:57        0.0           0.0   \n...                    ...                 ...        ...           ...   \n680274 2022-02-04 10:00:44 2022-02-04 10:00:44        0.0           1.0   \n680275 2022-02-04 10:00:44 2022-02-04 10:00:44        0.0           1.0   \n680276 2022-02-04 10:00:44 2022-02-04 10:00:44        1.0           1.0   \n680277 2022-02-04 10:00:44 2022-02-04 10:00:44        1.0           1.0   \n680278 2022-02-04 10:00:44 2022-02-04 10:00:44        0.0           1.0   \n\n          qty  weight  category_id multiply_option zzrecord_lookup  \n0           1     0.0          0.0               0    1.673298e+09  \n1           1     0.0          0.0               0    1.671687e+09  \n2       25000     0.0          0.0               0    1.671677e+09  \n3          10     0.0          0.0               0    1.671674e+09  \n4          25     0.0          0.0               0    1.671674e+09  \n...       ...     ...          ...             ...             ...  \n680274    400     NaN          NaN                             NaN  \n680275    200     NaN          NaN                             NaN  \n680276     50     NaN          NaN                             NaN  \n680277    100     NaN          NaN                             NaN  \n680278    150     NaN          NaN                             NaN  \n\n[680279 rows x 28 columns]",
      "text/html": "<div>\n<style scoped>\n    .dataframe tbody tr th:only-of-type {\n        vertical-align: middle;\n    }\n\n    .dataframe tbody tr th {\n        vertical-align: top;\n    }\n\n    .dataframe thead th {\n        text-align: right;\n    }\n</style>\n<table border=\"1\" class=\"dataframe\">\n  <thead>\n    <tr style=\"text-align: right;\">\n      <th></th>\n      <th>id</th>\n      <th>price_point</th>\n      <th>product_id</th>\n      <th>web_product_details_id</th>\n      <th>versions</th>\n      <th>quanity</th>\n      <th>price</th>\n      <th>colour_id</th>\n      <th>product_id_size</th>\n      <th>size_id</th>\n      <th>...</th>\n      <th>status</th>\n      <th>date_added</th>\n      <th>updated_date</th>\n      <th>on_website</th>\n      <th>on_pricelist</th>\n      <th>qty</th>\n      <th>weight</th>\n      <th>category_id</th>\n      <th>multiply_option</th>\n      <th>zzrecord_lookup</th>\n    </tr>\n  </thead>\n  <tbody>\n    <tr>\n      <th>0</th>\n      <td>8154626</td>\n      <td>20160</td>\n      <td>1348</td>\n      <td>1348</td>\n      <td>1</td>\n      <td>1</td>\n      <td>10.0</td>\n      <td>4.0</td>\n      <td>214</td>\n      <td>214</td>\n      <td>...</td>\n      <td>yes</td>\n      <td>2023-01-09 20:54:27</td>\n      <td>2023-01-09 20:54:27</td>\n      <td>0.0</td>\n      <td>0.0</td>\n      <td>1</td>\n      <td>0.0</td>\n      <td>0.0</td>\n      <td>0</td>\n      <td>1.673298e+09</td>\n    </tr>\n    <tr>\n      <th>1</th>\n      <td>8154625</td>\n      <td>1666052116</td>\n      <td>2506</td>\n      <td>2506</td>\n      <td>1</td>\n      <td>1</td>\n      <td>64.0</td>\n      <td>4.0</td>\n      <td>7081</td>\n      <td>7081</td>\n      <td>...</td>\n      <td>yes</td>\n      <td>2022-12-22 05:23:20</td>\n      <td>2022-12-22 05:23:20</td>\n      <td>0.0</td>\n      <td>0.0</td>\n      <td>1</td>\n      <td>0.0</td>\n      <td>0.0</td>\n      <td>0</td>\n      <td>1.671687e+09</td>\n    </tr>\n    <tr>\n      <th>2</th>\n      <td>8154624</td>\n      <td>1666052116</td>\n      <td>2506</td>\n      <td>2506</td>\n      <td>1</td>\n      <td>25000</td>\n      <td>1.0</td>\n      <td>698.0</td>\n      <td>7427</td>\n      <td>7427</td>\n      <td>...</td>\n      <td>yes</td>\n      <td>2022-12-22 02:40:22</td>\n      <td>2022-12-22 02:40:22</td>\n      <td>0.0</td>\n      <td>0.0</td>\n      <td>25000</td>\n      <td>0.0</td>\n      <td>0.0</td>\n      <td>0</td>\n      <td>1.671677e+09</td>\n    </tr>\n    <tr>\n      <th>3</th>\n      <td>8154577</td>\n      <td>1666052116</td>\n      <td>2509</td>\n      <td>2509</td>\n      <td>1</td>\n      <td>10</td>\n      <td>203.0</td>\n      <td>698.0</td>\n      <td>7091</td>\n      <td>7091</td>\n      <td>...</td>\n      <td>yes</td>\n      <td>2022-12-22 01:47:57</td>\n      <td>2022-12-22 01:47:57</td>\n      <td>0.0</td>\n      <td>0.0</td>\n      <td>10</td>\n      <td>0.0</td>\n      <td>0.0</td>\n      <td>0</td>\n      <td>1.671674e+09</td>\n    </tr>\n    <tr>\n      <th>4</th>\n      <td>8154578</td>\n      <td>1666052116</td>\n      <td>2509</td>\n      <td>2509</td>\n      <td>1</td>\n      <td>25</td>\n      <td>381.0</td>\n      <td>698.0</td>\n      <td>7091</td>\n      <td>7091</td>\n      <td>...</td>\n      <td>yes</td>\n      <td>2022-12-22 01:47:57</td>\n      <td>2022-12-22 01:47:57</td>\n      <td>0.0</td>\n      <td>0.0</td>\n      <td>25</td>\n      <td>0.0</td>\n      <td>0.0</td>\n      <td>0</td>\n      <td>1.671674e+09</td>\n    </tr>\n    <tr>\n      <th>...</th>\n      <td>...</td>\n      <td>...</td>\n      <td>...</td>\n      <td>...</td>\n      <td>...</td>\n      <td>...</td>\n      <td>...</td>\n      <td>...</td>\n      <td>...</td>\n      <td>...</td>\n      <td>...</td>\n      <td>...</td>\n      <td>...</td>\n      <td>...</td>\n      <td>...</td>\n      <td>...</td>\n      <td>...</td>\n      <td>...</td>\n      <td>...</td>\n      <td>...</td>\n      <td>...</td>\n    </tr>\n    <tr>\n      <th>680274</th>\n      <td>7940274</td>\n      <td>20160</td>\n      <td>47</td>\n      <td>47</td>\n      <td>1</td>\n      <td>400</td>\n      <td>104.0</td>\n      <td>4.0</td>\n      <td>136</td>\n      <td>136</td>\n      <td>...</td>\n      <td>yes</td>\n      <td>2022-02-04 10:00:44</td>\n      <td>2022-02-04 10:00:44</td>\n      <td>0.0</td>\n      <td>1.0</td>\n      <td>400</td>\n      <td>NaN</td>\n      <td>NaN</td>\n      <td></td>\n      <td>NaN</td>\n    </tr>\n    <tr>\n      <th>680275</th>\n      <td>7940272</td>\n      <td>20160</td>\n      <td>47</td>\n      <td>47</td>\n      <td>1</td>\n      <td>200</td>\n      <td>88.0</td>\n      <td>4.0</td>\n      <td>136</td>\n      <td>136</td>\n      <td>...</td>\n      <td>yes</td>\n      <td>2022-02-04 10:00:44</td>\n      <td>2022-02-04 10:00:44</td>\n      <td>0.0</td>\n      <td>1.0</td>\n      <td>200</td>\n      <td>NaN</td>\n      <td>NaN</td>\n      <td></td>\n      <td>NaN</td>\n    </tr>\n    <tr>\n      <th>680276</th>\n      <td>7940269</td>\n      <td>20160</td>\n      <td>47</td>\n      <td>47</td>\n      <td>1</td>\n      <td>50</td>\n      <td>82.0</td>\n      <td>4.0</td>\n      <td>136</td>\n      <td>136</td>\n      <td>...</td>\n      <td>yes</td>\n      <td>2022-02-04 10:00:44</td>\n      <td>2022-02-04 10:00:44</td>\n      <td>1.0</td>\n      <td>1.0</td>\n      <td>50</td>\n      <td>NaN</td>\n      <td>NaN</td>\n      <td></td>\n      <td>NaN</td>\n    </tr>\n    <tr>\n      <th>680277</th>\n      <td>7940270</td>\n      <td>20160</td>\n      <td>47</td>\n      <td>47</td>\n      <td>1</td>\n      <td>100</td>\n      <td>84.0</td>\n      <td>4.0</td>\n      <td>136</td>\n      <td>136</td>\n      <td>...</td>\n      <td>yes</td>\n      <td>2022-02-04 10:00:44</td>\n      <td>2022-02-04 10:00:44</td>\n      <td>1.0</td>\n      <td>1.0</td>\n      <td>100</td>\n      <td>NaN</td>\n      <td>NaN</td>\n      <td></td>\n      <td>NaN</td>\n    </tr>\n    <tr>\n      <th>680278</th>\n      <td>7940271</td>\n      <td>20160</td>\n      <td>47</td>\n      <td>47</td>\n      <td>1</td>\n      <td>150</td>\n      <td>86.0</td>\n      <td>4.0</td>\n      <td>136</td>\n      <td>136</td>\n      <td>...</td>\n      <td>yes</td>\n      <td>2022-02-04 10:00:44</td>\n      <td>2022-02-04 10:00:44</td>\n      <td>0.0</td>\n      <td>1.0</td>\n      <td>150</td>\n      <td>NaN</td>\n      <td>NaN</td>\n      <td></td>\n      <td>NaN</td>\n    </tr>\n  </tbody>\n</table>\n<p>680279 rows × 28 columns</p>\n</div>"
     },
     "execution_count": 19,
     "metadata": {},
     "output_type": "execute_result"
    }
   ],
   "source": [
    "df"
   ],
   "metadata": {
    "collapsed": false
   }
  },
  {
   "cell_type": "code",
   "execution_count": 19,
   "outputs": [],
   "source": [],
   "metadata": {
    "collapsed": false
   }
  }
 ],
 "metadata": {
  "kernelspec": {
   "display_name": "Python 3",
   "language": "python",
   "name": "python3"
  },
  "language_info": {
   "codemirror_mode": {
    "name": "ipython",
    "version": 2
   },
   "file_extension": ".py",
   "mimetype": "text/x-python",
   "name": "python",
   "nbconvert_exporter": "python",
   "pygments_lexer": "ipython2",
   "version": "2.7.6"
  }
 },
 "nbformat": 4,
 "nbformat_minor": 0
}
